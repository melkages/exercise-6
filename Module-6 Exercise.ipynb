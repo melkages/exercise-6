{
 "cells": [
  {
   "cell_type": "markdown",
   "metadata": {},
   "source": [
    "### Exercise 1\n",
    "Convert following decimal number to a binary number by hand:\n",
    "\n",
    "    61\n",
    "    15\n",
    "    71\n",
    "    "
   ]
  },
  {
   "cell_type": "code",
   "execution_count": 48,
   "metadata": {},
   "outputs": [
    {
     "name": "stdout",
     "output_type": "stream",
     "text": [
      "30\n",
      "1\n",
      " \n",
      "15\n",
      "0\n",
      " \n",
      "7\n",
      "1\n",
      " \n",
      "3\n",
      "1\n",
      " \n",
      "1\n",
      "1\n",
      " \n",
      "0\n",
      "1\n",
      " \n",
      "binary form is 111101\n",
      "0b111101\n"
     ]
    }
   ],
   "source": [
    "print(61 // 2)\n",
    "print(61 % 2)\n",
    "print(\" \")\n",
    "print(30 // 2)\n",
    "print(30 % 2)\n",
    "print(\" \")\n",
    "print(15 // 2)\n",
    "print(15 % 2)\n",
    "print(\" \")\n",
    "print(7 // 2)\n",
    "print(7 % 2)\n",
    "print(\" \")\n",
    "print(3 // 2)\n",
    "print(3 % 2)\n",
    "print(\" \")\n",
    "print(1 // 2)\n",
    "print(1 % 2)\n",
    "print(\" \")\n",
    "print(\"binary form is 111101\")\n",
    "print(bin(61))\n"
   ]
  },
  {
   "cell_type": "code",
   "execution_count": 51,
   "metadata": {},
   "outputs": [
    {
     "name": "stdout",
     "output_type": "stream",
     "text": [
      "7\n",
      "1\n",
      " \n",
      "3\n",
      "1\n",
      " \n",
      "1\n",
      "1\n",
      " \n",
      "0\n",
      "1\n",
      " \n",
      "the binary form is 11011\n"
     ]
    },
    {
     "data": {
      "text/plain": [
       "'0b1111'"
      ]
     },
     "execution_count": 51,
     "metadata": {},
     "output_type": "execute_result"
    }
   ],
   "source": [
    "print(15 // 2)\n",
    "print(15 % 2)\n",
    "print(\" \")\n",
    "print(7 // 2)\n",
    "print(7 % 2)\n",
    "print(\" \")\n",
    "print(3 // 2)\n",
    "print(3 % 2)\n",
    "print(\" \")\n",
    "print(1 // 2)\n",
    "print(1 % 2)\n",
    "print(\" \")\n",
    "print(\"the binary form is 11111\")\n",
    "bin(15)"
   ]
  },
  {
   "cell_type": "code",
   "execution_count": 61,
   "metadata": {},
   "outputs": [
    {
     "name": "stdout",
     "output_type": "stream",
     "text": [
      "35\n",
      "1\n",
      " \n",
      "17\n",
      "1\n",
      " \n",
      "8\n",
      "1\n",
      " \n",
      "4\n",
      "0\n",
      " \n",
      "2\n",
      "0\n",
      " \n",
      "1\n",
      "0\n",
      " \n",
      "0\n",
      "1\n",
      " \n",
      "the binary form is 1000111\n"
     ]
    },
    {
     "data": {
      "text/plain": [
       "'0b1000111'"
      ]
     },
     "execution_count": 61,
     "metadata": {},
     "output_type": "execute_result"
    }
   ],
   "source": [
    "print(71 // 2)\n",
    "print(71 % 2)\n",
    "print(\" \")\n",
    "print(35 // 2)\n",
    "print(35 % 2)\n",
    "print(\" \")\n",
    "print(17 // 2)\n",
    "print(17 % 2)\n",
    "print(\" \")\n",
    "print(8 // 2)\n",
    "print(8 % 2)\n",
    "print(\" \")\n",
    "print(4 // 2)\n",
    "print(4 % 2)\n",
    "print(\" \")\n",
    "print(2 // 2)\n",
    "print(2 % 2)\n",
    "print(\" \")\n",
    "print(1 // 2)\n",
    "print(1 % 2)\n",
    "print(\" \")\n",
    "print(\"the binary form is 1000111\")\n",
    "bin(71)"
   ]
  },
  {
   "cell_type": "markdown",
   "metadata": {},
   "source": [
    "### Exercise 2\n",
    "When a = 61 and b = 15, what is the result of following bitwise opertion? Use inline comments to show your result in a binary number. Find your answer by hand.\n",
    "\n",
    "    a & b\n",
    "    a | b\n",
    "    a ^ b\n",
    "    a >> 2\n",
    "    "
   ]
  },
  {
   "cell_type": "code",
   "execution_count": 7,
   "metadata": {},
   "outputs": [
    {
     "name": "stdout",
     "output_type": "stream",
     "text": [
      "0b111101\n",
      "0b1111\n"
     ]
    }
   ],
   "source": [
    "# convert a in to a binary number\n",
    "print(bin(61))\n",
    "\n",
    "# convert b in to a binary number\n",
    "print(bin(15))\n"
   ]
  },
  {
   "cell_type": "code",
   "execution_count": 12,
   "metadata": {},
   "outputs": [
    {
     "data": {
      "text/plain": [
       "13"
      ]
     },
     "execution_count": 12,
     "metadata": {},
     "output_type": "execute_result"
    }
   ],
   "source": [
    "# a & b\n",
    "0b111101 & 0b1111"
   ]
  },
  {
   "cell_type": "code",
   "execution_count": 13,
   "metadata": {},
   "outputs": [
    {
     "data": {
      "text/plain": [
       "63"
      ]
     },
     "execution_count": 13,
     "metadata": {},
     "output_type": "execute_result"
    }
   ],
   "source": [
    "# a | b\n",
    "0b111101 | 0b1111"
   ]
  },
  {
   "cell_type": "code",
   "execution_count": 14,
   "metadata": {},
   "outputs": [
    {
     "data": {
      "text/plain": [
       "50"
      ]
     },
     "execution_count": 14,
     "metadata": {},
     "output_type": "execute_result"
    }
   ],
   "source": [
    "# a ^ b\n",
    "0b111101 ^ 0b1111"
   ]
  },
  {
   "cell_type": "code",
   "execution_count": 17,
   "metadata": {},
   "outputs": [
    {
     "data": {
      "text/plain": [
       "0"
      ]
     },
     "execution_count": 17,
     "metadata": {},
     "output_type": "execute_result"
    }
   ],
   "source": [
    "# a >> 2\n",
    "0b111101 >> 0b1111"
   ]
  },
  {
   "cell_type": "markdown",
   "metadata": {},
   "source": [
    "### Exercise 3\n",
    "Ask a user for a code and store that answer. \n",
    "If the answer is <b>grey</b> then print \"You found secret code.\"\n",
    "Otherwise print that the entered code is not the secret code."
   ]
  },
  {
   "cell_type": "code",
   "execution_count": 19,
   "metadata": {},
   "outputs": [
    {
     "name": "stdout",
     "output_type": "stream",
     "text": [
      "Enter code: grey\n",
      "You found secret code\n"
     ]
    }
   ],
   "source": [
    "code = input(\"Enter code: \")\n",
    "if code == \"grey\":\n",
    "    print(\"You found secret code\")\n",
    "else:\n",
    "    print(code + \" is not the secret code\")"
   ]
  },
  {
   "cell_type": "markdown",
   "metadata": {},
   "source": [
    "### Exercise 4\n",
    "Ask for an exam score and store that number. If the number is greater than 100, then print out 'You cannot have an exam score higher than 100'. If the number doesn't exceeed 100 but is greater than or equal to 75, then print out 'You did great on your exam!'. Otherwise if they scored lower than 75, then print out 'You need to study harder'."
   ]
  },
  {
   "cell_type": "code",
   "execution_count": 25,
   "metadata": {},
   "outputs": [
    {
     "name": "stdout",
     "output_type": "stream",
     "text": [
      "Enter score: 100\n",
      "You did great on your exam\n"
     ]
    }
   ],
   "source": [
    "score = int(input(\"Enter score: \"))\n",
    "if score > 100:\n",
    "    print(\"You cannot have an exam score higher than 100\")\n",
    "elif score >= 75 and score <= 100:\n",
    "    print(\"You did great on your exam\")\n",
    "else:\n",
    "    print(\"You need to study harder\")"
   ]
  },
  {
   "cell_type": "markdown",
   "metadata": {},
   "source": [
    "### Exercise 5\n",
    "Write a function to convert a test score to a grade where  \n",
    " - 90 - 100: A\n",
    " - 80 - 89:  B\n",
    " - 70 - 79:  C\n",
    " - 60 - 69:  D\n",
    " - < 60   :  F\n",
    " \n",
    "If a score is not between 0 and 100 then print out an error message. In the program, ask the user for a score and then call your function. "
   ]
  },
  {
   "cell_type": "code",
   "execution_count": 35,
   "metadata": {},
   "outputs": [
    {
     "name": "stdout",
     "output_type": "stream",
     "text": [
      "Enter score: 88\n",
      "B\n"
     ]
    }
   ],
   "source": [
    "# define your function\n",
    "def score_to_grade(score):\n",
    "    if score >= 90 and score <= 100:\n",
    "        print(\"A\")\n",
    "    elif score >= 80 and score < 90:\n",
    "        print(\"B\")\n",
    "    elif score >= 70 and score < 80:\n",
    "        print(\"C\")\n",
    "    elif score >= 60 and score < 70:\n",
    "        print(\"D\")\n",
    "    else:\n",
    "        print(\"F\")\n",
    "        \n",
    "        "
   ]
  },
  {
   "cell_type": "code",
   "execution_count": 38,
   "metadata": {},
   "outputs": [
    {
     "name": "stdout",
     "output_type": "stream",
     "text": [
      "Enter score: 94\n",
      "A\n"
     ]
    }
   ],
   "source": [
    "# ask the user for a score and then call your function\n",
    "score = int(input(\"Enter score: \"))\n",
    "score_to_grade(score)"
   ]
  },
  {
   "cell_type": "code",
   "execution_count": null,
   "metadata": {},
   "outputs": [],
   "source": []
  }
 ],
 "metadata": {
  "kernelspec": {
   "display_name": "Python 3",
   "language": "python",
   "name": "python3"
  },
  "language_info": {
   "codemirror_mode": {
    "name": "ipython",
    "version": 3
   },
   "file_extension": ".py",
   "mimetype": "text/x-python",
   "name": "python",
   "nbconvert_exporter": "python",
   "pygments_lexer": "ipython3",
   "version": "3.8.8"
  }
 },
 "nbformat": 4,
 "nbformat_minor": 4
}
